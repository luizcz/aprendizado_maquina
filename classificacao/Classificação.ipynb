{
 "cells": [
  {
   "cell_type": "code",
   "execution_count": 1,
   "metadata": {},
   "outputs": [],
   "source": [
    "import pandas as pd\n",
    "import numpy as np\n",
    "import seaborn as sns\n",
    "import matplotlib\n",
    "from sklearn.model_selection import train_test_split\n",
    "\n",
    "import matplotlib.pyplot as plt\n",
    "from scipy.stats import skew\n",
    "from scipy.stats.stats import pearsonr\n",
    "%matplotlib inline\n",
    "import sys\n",
    "#!{sys.executable} -m pip install -U imbalanced-learn\n",
    "from imblearn.combine import SMOTEENN\n",
    "from imblearn.over_sampling import SMOTE"
   ]
  },
  {
   "cell_type": "markdown",
   "metadata": {},
   "source": [
    "### Leitura dos dados"
   ]
  },
  {
   "cell_type": "code",
   "execution_count": 2,
   "metadata": {},
   "outputs": [],
   "source": [
    "dados = pd.read_csv(\"train.csv\")\n",
    "#dados_teste = pd.read_csv(\"eleicoes_2014.csv\")\n",
    "#dados_teste.columns = [\"ano\",\"sequencial_candidato\",\"nome\",\"uf\",\"partido\",\"quantidade_doacoes\",\"quantidade_doadores\",\"total_receita\",\"media_receita\",\"recursos_de_outros_candidatos/comites\",\"recursos_de_pessoas_fisicas\",\"recursos_de_pessoas_juridicas\",\"recursos_proprios\",\"quantidade_despesas\",\"quantidade_fornecedores\",\"total_despesa\",\"media_despesa\",\"cargo\",\"sexo\",\"grau\",\"estado_civil\",\"ocupacao\",\"votos\"]"
   ]
  },
  {
   "cell_type": "markdown",
   "metadata": {},
   "source": [
    "### Há desbalanceamento das classes (isto é, uma classe tem muito mais instâncias que outra)? Em que proporção? Quais efeitos colaterais o desbalanceamento de classes pode causar no classificador? Como você poderia tratar isso? (1 pt.)"
   ]
  },
  {
   "cell_type": "code",
   "execution_count": 3,
   "metadata": {},
   "outputs": [
    {
     "data": {
      "text/plain": [
       "nao_eleito    6596\n",
       "eleito        1026\n",
       "Name: situacao, dtype: int64"
      ]
     },
     "execution_count": 3,
     "metadata": {},
     "output_type": "execute_result"
    }
   ],
   "source": [
    "dados.situacao.value_counts()"
   ]
  },
  {
   "cell_type": "markdown",
   "metadata": {},
   "source": [
    "* Há sim desbalanceamento entre as classes.\n",
    "* nao_eleito = 86,5% e eleito = 13,5%.\n",
    "* Pode criar um viés no classificador favorecendo a classe com maior número de entradas.\n",
    "* Usar alguma combinação de oversampling com undersampling para balancear as classes."
   ]
  },
  {
   "cell_type": "code",
   "execution_count": 4,
   "metadata": {},
   "outputs": [],
   "source": [
    "numeric_feats = dados.dtypes[dados.dtypes != \"object\"].index\n",
    "#dados = dados.fillna(dados.mean())\n",
    "dados[numeric_feats] = dados.groupby(['partido', 'uf', 'ano'])[numeric_feats].transform(lambda x: x.fillna(x.median()))\n",
    "dados[numeric_feats] = dados.groupby(['partido', 'uf'])[numeric_feats].transform(lambda x: x.fillna(x.median()))\n",
    "dados[numeric_feats] = dados.groupby(['partido'])[numeric_feats].transform(lambda x: x.fillna(x.median()))\n",
    "\n",
    "skewed_feats = dados[numeric_feats].apply(lambda x: skew(x.dropna())) #compute skewness\n",
    "skewed_feats = skewed_feats[skewed_feats > 0.75]\n",
    "skewed_feats = skewed_feats.index\n",
    "dados[skewed_feats] = np.log1p(dados[skewed_feats])\n",
    "\n",
    "dados = dados.fillna(dados.median())\n",
    "dados = dados.drop(columns = ['nome', 'sequencial_candidato'])\n",
    "dados = pd.get_dummies(dados, columns = ['uf', 'partido', 'cargo', 'sexo', 'grau', 'estado_civil', 'ocupacao'])\n",
    "dados[\"situacao\"] = dados[\"situacao\"].astype('category')\n",
    "dados[\"situacao\"] = dados[\"situacao\"].cat.codes\n",
    "#y = dados.situacao\n",
    "#treino = dados.drop(columns = ['situacao'])"
   ]
  },
  {
   "cell_type": "code",
   "execution_count": 5,
   "metadata": {},
   "outputs": [],
   "source": [
    "#from imblearn.over_sampling import SMOTE\n",
    "sm = SMOTE(random_state=0)\n",
    "X_res, y_res = sm.fit_resample(dados.drop(columns = ['situacao']), dados.situacao)\n",
    "\n",
    "x = pd.DataFrame(data=X_res[0:,0:])\n",
    "x.columns = dados.drop(columns = ['situacao']).columns\n",
    "x['situacao'] = y_res\n",
    "x = x.fillna(x.median())"
   ]
  },
  {
   "cell_type": "markdown",
   "metadata": {},
   "source": [
    "### Separação treino e teste"
   ]
  },
  {
   "cell_type": "code",
   "execution_count": 6,
   "metadata": {},
   "outputs": [],
   "source": [
    "treino =  dados[dados.ano == 2006]\n",
    "y_treino = treino.situacao\n",
    "treino = treino.drop(columns = ['situacao'])\n",
    "\n",
    "teste = dados[dados.ano == 2010]\n",
    "y_teste = teste.situacao\n",
    "teste = teste.drop(columns = ['situacao'])\n",
    "\n",
    "treino_balanceado = x[x.ano == 2006]\n",
    "y_treino_balanceado = treino_balanceado.situacao\n",
    "treino_balanceado = treino_balanceado.drop(columns = ['situacao'])\n",
    "\n",
    "teste_balanceado = x[x.ano == 2010]\n",
    "y_teste_balanceado = teste_balanceado.situacao\n",
    "teste_balanceado = teste_balanceado.drop(columns = ['situacao'])"
   ]
  },
  {
   "cell_type": "code",
   "execution_count": 7,
   "metadata": {},
   "outputs": [],
   "source": [
    "from sklearn.neighbors import KNeighborsClassifier\n",
    "from sklearn.linear_model import LogisticRegression\n",
    "from sklearn import tree\n",
    "from sklearn.ensemble import AdaBoostClassifier\n",
    "from sklearn.model_selection import cross_val_score"
   ]
  },
  {
   "cell_type": "markdown",
   "metadata": {},
   "source": [
    "### Função de cálculo de rmse com cross validation"
   ]
  },
  {
   "cell_type": "code",
   "execution_count": 8,
   "metadata": {},
   "outputs": [],
   "source": [
    "def cv(model):\n",
    "    f1= cross_val_score(model, treino, y_treino, scoring='f1', cv = 10)\n",
    "    return(f1)\n"
   ]
  },
  {
   "cell_type": "code",
   "execution_count": 9,
   "metadata": {},
   "outputs": [],
   "source": [
    "def cv_balanceado(model):\n",
    "    f1= cross_val_score(model, treino_balanceado, y_treino_balanceado, scoring='f1', cv = 10)\n",
    "    return(f1)"
   ]
  },
  {
   "cell_type": "markdown",
   "metadata": {},
   "source": [
    "### Cálculo de f1 das árvores para diferentes máximos de tamanho para os dados desbalanceados"
   ]
  },
  {
   "cell_type": "code",
   "execution_count": 10,
   "metadata": {},
   "outputs": [],
   "source": [
    "alphas = [ 1, 3, 5,10,11,12,13,15, 20,30,40,45, 50, 75]\n",
    "f1_arvores = [cv(tree.DecisionTreeClassifier(max_depth=alpha)).mean() \n",
    "            for alpha in alphas]"
   ]
  },
  {
   "cell_type": "markdown",
   "metadata": {},
   "source": [
    "### Plot do F1 para cada alpha"
   ]
  },
  {
   "cell_type": "code",
   "execution_count": 11,
   "metadata": {},
   "outputs": [
    {
     "data": {
      "text/plain": [
       "Text(0,0.5,'f1')"
      ]
     },
     "execution_count": 11,
     "metadata": {},
     "output_type": "execute_result"
    },
    {
     "data": {
      "image/png": "[encoded data removed]",
      "text/plain": [
       "<Figure size 432x288 with 1 Axes>"
      ]
     },
     "metadata": {},
     "output_type": "display_data"
    }
   ],
   "source": [
    "f1_arvores = pd.Series(f1_arvores, index = alphas)\n",
    "f1_arvores.plot(title = \"Validação\")\n",
    "plt.xlabel(\"alpha\")\n",
    "plt.ylabel(\"f1\")"
   ]
  },
  {
   "cell_type": "markdown",
   "metadata": {},
   "source": [
    "### Melhor modelo"
   ]
  },
  {
   "cell_type": "code",
   "execution_count": 12,
   "metadata": {},
   "outputs": [
    {
     "data": {
      "text/plain": [
       "0.8997772828507795"
      ]
     },
     "execution_count": 12,
     "metadata": {},
     "output_type": "execute_result"
    }
   ],
   "source": [
    "f1_arvores.idxmax()\n",
    "arvore = tree.DecisionTreeClassifier(max_depth=f1_arvores.idxmax()).fit(treino, y_treino)\n",
    "arvore.score(teste, y_teste)"
   ]
  },
  {
   "cell_type": "markdown",
   "metadata": {},
   "source": [
    "### Cálculo de f1 das árvores para diferentes máximos de tamanho para os dados balanceados"
   ]
  },
  {
   "cell_type": "code",
   "execution_count": 13,
   "metadata": {},
   "outputs": [],
   "source": [
    "alphas = [ 1, 3, 5,10,11,12,13,15, 20,30,40,45, 50, 75]\n",
    "f1_arvores_balanceado = [cv_balanceado(tree.DecisionTreeClassifier(max_depth=alpha)).mean() \n",
    "            for alpha in alphas]"
   ]
  },
  {
   "cell_type": "markdown",
   "metadata": {},
   "source": [
    "### Plot do F1 para cada alpha"
   ]
  },
  {
   "cell_type": "code",
   "execution_count": 14,
   "metadata": {},
   "outputs": [
    {
     "data": {
      "text/plain": [
       "Text(0,0.5,'f1')"
      ]
     },
     "execution_count": 14,
     "metadata": {},
     "output_type": "execute_result"
    },
    {
     "data": {
      "image/png": "[encoded data removed]",
      "text/plain": [
       "<Figure size 432x288 with 1 Axes>"
      ]
     },
     "metadata": {},
     "output_type": "display_data"
    }
   ],
   "source": [
    "f1_arvores_balanceado = pd.Series(f1_arvores_balanceado, index = alphas)\n",
    "f1_arvores_balanceado.plot(title = \"Validação\")\n",
    "plt.xlabel(\"alpha\")\n",
    "plt.ylabel(\"f1\")"
   ]
  },
  {
   "cell_type": "markdown",
   "metadata": {},
   "source": [
    "### Melhor modelo"
   ]
  },
  {
   "cell_type": "code",
   "execution_count": 15,
   "metadata": {},
   "outputs": [
    {
     "data": {
      "text/plain": [
       "0.9196750902527075"
      ]
     },
     "execution_count": 15,
     "metadata": {},
     "output_type": "execute_result"
    }
   ],
   "source": [
    "f1_arvores_balanceado.idxmax()\n",
    "arvore_balanceado = tree.DecisionTreeClassifier(max_depth=f1_arvores_balanceado.idxmax()).fit(treino_balanceado, y_treino_balanceado)\n",
    "arvore_balanceado.score(teste_balanceado, y_teste_balanceado)"
   ]
  },
  {
   "cell_type": "markdown",
   "metadata": {},
   "source": [
    "### Geração de modelo de regressão logistica com dados desbalanceado"
   ]
  },
  {
   "cell_type": "code",
   "execution_count": 16,
   "metadata": {
    "scrolled": true
   },
   "outputs": [
    {
     "name": "stderr",
     "output_type": "stream",
     "text": [
      "C:\\Users\\Luiz\\Anaconda3\\lib\\site-packages\\sklearn\\linear_model\\logistic.py:433: FutureWarning: Default solver will be changed to 'lbfgs' in 0.22. Specify a solver to silence this warning.\n",
      "  FutureWarning)\n"
     ]
    },
    {
     "data": {
      "text/plain": [
       "0.9173471912892849"
      ]
     },
     "execution_count": 16,
     "metadata": {},
     "output_type": "execute_result"
    }
   ],
   "source": [
    "logistic = LogisticRegression()\n",
    "logistic.fit(treino, y_treino)\n",
    "logistic.score(teste,y_teste)"
   ]
  },
  {
   "cell_type": "markdown",
   "metadata": {},
   "source": [
    "### Geração de modelo de regressão logistica com dados balanceado"
   ]
  },
  {
   "cell_type": "code",
   "execution_count": 17,
   "metadata": {},
   "outputs": [
    {
     "name": "stderr",
     "output_type": "stream",
     "text": [
      "C:\\Users\\Luiz\\Anaconda3\\lib\\site-packages\\sklearn\\linear_model\\logistic.py:433: FutureWarning: Default solver will be changed to 'lbfgs' in 0.22. Specify a solver to silence this warning.\n",
      "  FutureWarning)\n"
     ]
    },
    {
     "data": {
      "text/plain": [
       "0.9180204572803851"
      ]
     },
     "execution_count": 17,
     "metadata": {},
     "output_type": "execute_result"
    }
   ],
   "source": [
    "logistic = LogisticRegression()\n",
    "logistic.fit(treino_balanceado, y_treino_balanceado)\n",
    "logistic.score(teste_balanceado,y_teste_balanceado)"
   ]
  },
  {
   "cell_type": "markdown",
   "metadata": {},
   "source": [
    "### Cálculo de f1 dos modelos KNN para diferentes número de vizinhos para os dados balanceados"
   ]
  },
  {
   "cell_type": "code",
   "execution_count": 18,
   "metadata": {},
   "outputs": [],
   "source": [
    "alphas = [ 1, 3, 5,10,11,12,13,15, 20,30,40,45, 50, 75, 100]\n",
    "f1_knn = [cv_balanceado(KNeighborsClassifier(n_neighbors=alpha)).mean() \n",
    "            for alpha in alphas]"
   ]
  },
  {
   "cell_type": "markdown",
   "metadata": {},
   "source": [
    "### F1 para cada alpha"
   ]
  },
  {
   "cell_type": "code",
   "execution_count": 19,
   "metadata": {},
   "outputs": [
    {
     "data": {
      "text/plain": [
       "Text(0,0.5,'f1')"
      ]
     },
     "execution_count": 19,
     "metadata": {},
     "output_type": "execute_result"
    },
    {
     "data": {
      "image/png": "[encoded data removed]",
      "text/plain": [
       "<Figure size 432x288 with 1 Axes>"
      ]
     },
     "metadata": {},
     "output_type": "display_data"
    }
   ],
   "source": [
    "f1_knn = pd.Series(f1_knn, index = alphas)\n",
    "f1_knn.plot(title = \"Validação\")\n",
    "plt.xlabel(\"alpha\")\n",
    "plt.ylabel(\"f1\")"
   ]
  },
  {
   "cell_type": "markdown",
   "metadata": {},
   "source": [
    "### Criação do modelo com melhor alpha"
   ]
  },
  {
   "cell_type": "code",
   "execution_count": 20,
   "metadata": {},
   "outputs": [
    {
     "data": {
      "text/plain": [
       "0.8564981949458483"
      ]
     },
     "execution_count": 20,
     "metadata": {},
     "output_type": "execute_result"
    }
   ],
   "source": [
    "f1_knn.idxmax()\n",
    "knn = KNeighborsClassifier(n_neighbors=f1_knn.idxmax()).fit(treino_balanceado, y_treino_balanceado)\n",
    "knn.score(teste_balanceado, y_teste_balanceado)"
   ]
  },
  {
   "cell_type": "markdown",
   "metadata": {},
   "source": [
    "### Cálculo de f1 dos modelos KNN para diferentes número de vizinhos para os dados desbalanceados"
   ]
  },
  {
   "cell_type": "code",
   "execution_count": 21,
   "metadata": {},
   "outputs": [],
   "source": [
    "alphas = [ 1, 3, 5,10,11,12,13,15, 20,30,40,45, 50, 75, 100]\n",
    "f1_knn_desb = [cv(KNeighborsClassifier(n_neighbors=alpha)).mean() \n",
    "            for alpha in alphas]"
   ]
  },
  {
   "cell_type": "markdown",
   "metadata": {},
   "source": [
    "### F1 para cada alpha"
   ]
  },
  {
   "cell_type": "code",
   "execution_count": 22,
   "metadata": {},
   "outputs": [
    {
     "data": {
      "text/plain": [
       "Text(0,0.5,'f1')"
      ]
     },
     "execution_count": 22,
     "metadata": {},
     "output_type": "execute_result"
    },
    {
     "data": {
      "image/png": "[encoded data removed]",
      "text/plain": [
       "<Figure size 432x288 with 1 Axes>"
      ]
     },
     "metadata": {},
     "output_type": "display_data"
    }
   ],
   "source": [
    "f1_knn_desb = pd.Series(f1_knn_desb, index = alphas)\n",
    "f1_knn_desb.plot(title = \"Validação\")\n",
    "plt.xlabel(\"alpha\")\n",
    "plt.ylabel(\"f1\")"
   ]
  },
  {
   "cell_type": "markdown",
   "metadata": {},
   "source": [
    "### Melhor modelo"
   ]
  },
  {
   "cell_type": "code",
   "execution_count": 23,
   "metadata": {},
   "outputs": [
    {
     "data": {
      "text/plain": [
       "0.906953724325662"
      ]
     },
     "execution_count": 23,
     "metadata": {},
     "output_type": "execute_result"
    }
   ],
   "source": [
    "f1_knn_desb.idxmax()\n",
    "knn = KNeighborsClassifier(n_neighbors=f1_knn_desb.idxmax()).fit(treino, y_treino)\n",
    "knn.score(teste, y_teste)"
   ]
  },
  {
   "cell_type": "markdown",
   "metadata": {},
   "source": [
    "### Cálculo de f1 dos modelos Adaboost para diferentes número de vizinhos para os dados balanceados"
   ]
  },
  {
   "cell_type": "code",
   "execution_count": 24,
   "metadata": {},
   "outputs": [],
   "source": [
    "alphas = [ 1, 3, 5,10,11,12,13,15, 20,30,40,45, 50, 75, 100, 200, 300, 400]\n",
    "f1_ada_balanceado = [cv_balanceado(AdaBoostClassifier(n_estimators=alpha)).mean() \n",
    "            for alpha in alphas]"
   ]
  },
  {
   "cell_type": "markdown",
   "metadata": {},
   "source": [
    "### F1 para cada alpha"
   ]
  },
  {
   "cell_type": "code",
   "execution_count": 25,
   "metadata": {},
   "outputs": [
    {
     "data": {
      "text/plain": [
       "Text(0,0.5,'f1')"
      ]
     },
     "execution_count": 25,
     "metadata": {},
     "output_type": "execute_result"
    },
    {
     "data": {
      "image/png": "[encoded data removed]",
      "text/plain": [
       "<Figure size 432x288 with 1 Axes>"
      ]
     },
     "metadata": {},
     "output_type": "display_data"
    }
   ],
   "source": [
    "f1_ada_balanceado = pd.Series(f1_ada_balanceado, index = alphas)\n",
    "f1_ada_balanceado.plot(title = \"Validação\")\n",
    "plt.xlabel(\"alpha\")\n",
    "plt.ylabel(\"f1\")"
   ]
  },
  {
   "cell_type": "markdown",
   "metadata": {},
   "source": [
    "### Melhor modelo"
   ]
  },
  {
   "cell_type": "code",
   "execution_count": 26,
   "metadata": {},
   "outputs": [
    {
     "data": {
      "text/plain": [
       "0.934265944645006"
      ]
     },
     "execution_count": 26,
     "metadata": {},
     "output_type": "execute_result"
    }
   ],
   "source": [
    "f1_ada_balanceado.idxmax()\n",
    "ada = AdaBoostClassifier(n_estimators=f1_ada_balanceado.idxmax()).fit(treino_balanceado, y_treino_balanceado)\n",
    "ada.score(teste_balanceado, y_teste_balanceado)"
   ]
  },
  {
   "cell_type": "code",
   "execution_count": 58,
   "metadata": {},
   "outputs": [],
   "source": [
    "def imprimirEstatisticas(nome, modelo):\n",
    "    print(nome)\n",
    "    predicao = modelo.predict(dados_teste)\n",
    "    rmse = np.sqrt(mean_squared_error(y_2014, predicao))\n",
    "    r_squared = modelo.score(dados_teste, y_2014)\n",
    "    print(\"RMSE: \", rmse)\n",
    "    print(\"R²: \", r_squared)"
   ]
  },
  {
   "cell_type": "code",
   "execution_count": 61,
   "metadata": {},
   "outputs": [
    {
     "name": "stdout",
     "output_type": "stream",
     "text": [
      "Ridge\n",
      "RMSE:  1.83947161957029\n",
      "R²:  0.4820552806206254\n",
      "Lasso\n",
      "RMSE:  1.8392693337060046\n",
      "R²:  0.48216919065129193\n",
      "Regressão Linear\n",
      "RMSE:  1.8531774725088563\n",
      "R²:  0.47430814189088966\n",
      "K-nn\n",
      "RMSE:  1.8465831346197923\n",
      "R²:  0.4780427242943903\n",
      "Random Forest\n",
      "RMSE:  1.8830857808162569\n",
      "R²:  0.45720300540876757\n"
     ]
    }
   ],
   "source": [
    "model_ridge = Ridge(alpha = cv_ridge.idxmin())\n",
    "model_ridge.fit(dados, y)\n",
    "imprimirEstatisticas(\"Ridge\", model_ridge)\n",
    "model_lasso = Lasso(alpha = cv_lasso.idxmin(), max_iter=10000)\n",
    "model_lasso.fit(dados, y)\n",
    "imprimirEstatisticas(\"Lasso\", model_lasso)\n",
    "reg = LinearRegression()\n",
    "reg.fit(dados, y)\n",
    "imprimirEstatisticas(\"Regressão Linear\", reg)\n",
    "neigh = KNeighborsRegressor(n_neighbors=cv_knn.idxmin())\n",
    "neigh.fit(dados, y)\n",
    "imprimirEstatisticas(\"K-nn\", neigh)\n",
    "forest = RandomForestRegressor(n_estimators=cv_random_forest.idxmin())\n",
    "forest.fit(dados, y)\n",
    "imprimirEstatisticas(\"Random Forest\", forest)"
   ]
  },
  {
   "cell_type": "markdown",
   "metadata": {},
   "source": [
    "### Conclusão\n",
    "Mesmo o K-nn dando a entender que poderia prever melhor dado os resíduos o Ridge e o Lasso foram os algortimos que tiveram os melhores resultados tanto no RMSE como no R². Isso se deve ao fato que a regularização ajuda a evitar o overfit e ter resultados melhores prevendo dados nunca vistos. "
   ]
  },
  {
   "cell_type": "code",
   "execution_count": 107,
   "metadata": {},
   "outputs": [],
   "source": [
    "test = pd.read_csv(\"test.csv\")\n",
    "dadosOriginal = pd.read_csv(\"train.csv\")"
   ]
  },
  {
   "cell_type": "code",
   "execution_count": 108,
   "metadata": {},
   "outputs": [],
   "source": [
    "numeric_feats = test.dtypes[test.dtypes != \"object\"].index\n",
    "#dados = dados.fillna(dados.mean())\n",
    "test[numeric_feats] = test.groupby(['partido', 'uf', 'ano'])[numeric_feats].transform(lambda x: x.fillna(x.median()))\n",
    "test[numeric_feats] = test.groupby(['partido', 'uf'])[numeric_feats].transform(lambda x: x.fillna(x.median()))\n",
    "test[numeric_feats] = test.groupby(['partido'])[numeric_feats].transform(lambda x: x.fillna(x.median()))\n",
    "\n",
    "skewed_feats = test[numeric_feats].apply(lambda x: skew(x.dropna())) #compute skewness\n",
    "skewed_feats = skewed_feats[skewed_feats > 0.75]\n",
    "skewed_feats = skewed_feats.index\n",
    "test[skewed_feats] = np.log1p(test[skewed_feats])\n",
    "sequencial = test.sequencial_candidato\n",
    "test = test.fillna(dados.median())\n",
    "test = test.drop(columns = ['nome', 'sequencial_candidato'])\n",
    "#test = pd.get_dummies(test, columns = ['uf', 'partido', 'cargo', 'sexo', 'grau', 'estado_civil', 'ocupacao'])\n",
    "\n",
    "numeric_feats = dadosOriginal.dtypes[dadosOriginal.dtypes != \"object\"].index\n",
    "#dados = dados.fillna(dados.mean())\n",
    "dadosOriginal[numeric_feats] = dadosOriginal.groupby(['partido', 'uf', 'ano'])[numeric_feats].transform(lambda x: x.fillna(x.median()))\n",
    "dadosOriginal[numeric_feats] = dadosOriginal.groupby(['partido', 'uf'])[numeric_feats].transform(lambda x: x.fillna(x.median()))\n",
    "dadosOriginal[numeric_feats] = dadosOriginal.groupby(['partido'])[numeric_feats].transform(lambda x: x.fillna(x.median()))\n",
    "\n",
    "skewed_feats = dadosOriginal[numeric_feats].apply(lambda x: skew(x.dropna())) #compute skewness\n",
    "skewed_feats = skewed_feats[skewed_feats > 0.75]\n",
    "skewed_feats = skewed_feats.index\n",
    "dadosOriginal[skewed_feats] = np.log1p(dadosOriginal[skewed_feats])\n",
    "\n",
    "dadosOriginal = dadosOriginal.fillna(dadosOriginal.median())\n",
    "dadosOriginal = dadosOriginal.drop(columns = ['nome', 'sequencial_candidato', 'situacao'])"
   ]
  },
  {
   "cell_type": "code",
   "execution_count": 109,
   "metadata": {},
   "outputs": [
    {
     "name": "stderr",
     "output_type": "stream",
     "text": [
      "C:\\Users\\Luiz\\Anaconda3\\lib\\site-packages\\ipykernel_launcher.py:3: FutureWarning: specifying 'categories' or 'ordered' in .astype() is deprecated; pass a CategoricalDtype instead\n",
      "  This is separate from the ipykernel package so we can avoid doing imports until\n",
      "C:\\Users\\Luiz\\Anaconda3\\lib\\site-packages\\ipykernel_launcher.py:4: FutureWarning: specifying 'categories' or 'ordered' in .astype() is deprecated; pass a CategoricalDtype instead\n",
      "  after removing the cwd from sys.path.\n"
     ]
    }
   ],
   "source": [
    "all_data = pd.concat((dadosOriginal,test))\n",
    "for column in all_data.select_dtypes(include=[np.object]).columns:\n",
    "    dadosOriginal[column] = dadosOriginal[column].astype('category', categories = all_data[column].unique())\n",
    "    test[column] = dadosOriginal[column].astype('category', categories = all_data[column].unique())\n",
    "dadosOriginal = pd.get_dummies(dadosOriginal, columns = [\"uf\",\"partido\",\"cargo\",\"sexo\",\"grau\",\"estado_civil\",\"ocupacao\"])\n",
    "#dadosOriginal = dadosOriginal.drop(columns = ['nome', 'sequencial_candidato'])\n",
    "test = pd.get_dummies(test, columns = [\"uf\",\"partido\",\"cargo\",\"sexo\",\"grau\",\"estado_civil\",\"ocupacao\"])\n",
    "#test = test.drop(columns = ['nome', 'sequencial_candidato'])"
   ]
  },
  {
   "cell_type": "code",
   "execution_count": 146,
   "metadata": {},
   "outputs": [
    {
     "name": "stderr",
     "output_type": "stream",
     "text": [
      "C:\\Users\\Luiz\\Anaconda3\\lib\\site-packages\\sklearn\\linear_model\\logistic.py:433: FutureWarning: Default solver will be changed to 'lbfgs' in 0.22. Specify a solver to silence this warning.\n",
      "  FutureWarning)\n"
     ]
    }
   ],
   "source": [
    "f1_arvores.idxmax()\n",
    "logistic = LogisticRegression()\n",
    "y_treino_final = x.situacao\n",
    "treino_final = x.drop(columns = ['situacao'])\n",
    "logistic.fit(treino_final, y_treino_final)\n",
    "arvore_final = tree.DecisionTreeClassifier(max_depth=f1_arvores.idxmax()).fit(treino_final, y_treino_final)"
   ]
  },
  {
   "cell_type": "code",
   "execution_count": 147,
   "metadata": {},
   "outputs": [
    {
     "data": {
      "text/plain": [
       "Counter({1: 3765, 0: 827})"
      ]
     },
     "execution_count": 147,
     "metadata": {},
     "output_type": "execute_result"
    }
   ],
   "source": [
    "import collections\n",
    "collections.Counter(logistic.predict(test))\n",
    "#for valor in range(len(logistic.predict(test))):\n",
    "#    print('\"'+str(sequencial[valor])+'\"' + \",\"+'\"' +str(logistic.predict(test)[valor])+'\"' )\n",
    "#arvore_final.predict(test)"
   ]
  }
 ],
 "metadata": {
  "kernelspec": {
   "display_name": "Python 3",
   "language": "python",
   "name": "python3"
  },
  "language_info": {
   "codemirror_mode": {
    "name": "ipython",
    "version": 3
   },
   "file_extension": ".py",
   "mimetype": "text/x-python",
   "name": "python",
   "nbconvert_exporter": "python",
   "pygments_lexer": "ipython3",
   "version": "3.6.5"
  }
 },
 "nbformat": 4,
 "nbformat_minor": 2
}
